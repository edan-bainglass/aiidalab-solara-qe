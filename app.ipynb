{
 "cells": [
  {
   "cell_type": "markdown",
   "metadata": {},
   "source": [
    "# Deploying the app in a notebook\n",
    "\n",
    "- Execute the following cell to start the app\n",
    "- Click `+` to open a new wizard"
   ]
  },
  {
   "cell_type": "code",
   "execution_count": null,
   "metadata": {},
   "outputs": [],
   "source": [
    "from aiidalab_qe.pages.workbench import Workbench\n",
    "\n",
    "Workbench()"
   ]
  },
  {
   "cell_type": "code",
   "execution_count": null,
   "metadata": {},
   "outputs": [],
   "source": [
    "import solara\n",
    "from aiida import orm, engine, load_profile\n",
    "\n",
    "_ = load_profile()"
   ]
  },
  {
   "cell_type": "code",
   "execution_count": null,
   "metadata": {},
   "outputs": [],
   "source": [
    "from aiida.calculations.arithmetic.add import ArithmeticAddCalculation\n",
    "\n",
    "\n",
    "@solara.component\n",
    "def Page():\n",
    "    uuid = solara.use_reactive(\"\")\n",
    "\n",
    "    def submit_workflow():\n",
    "        code = orm.load_code(7185)\n",
    "        process_node = engine.submit(ArithmeticAddCalculation, x=1, y=2, code=code)\n",
    "        uuid.set(process_node.uuid)\n",
    "\n",
    "    solara.Button(\"Submit\", on_click=submit_workflow)\n",
    "\n",
    "    if uuid.value:\n",
    "        solara.Text(f\"Submitted workflow with UUID: {uuid.value}\")"
   ]
  },
  {
   "cell_type": "code",
   "execution_count": 8,
   "metadata": {},
   "outputs": [
    {
     "data": {
      "application/vnd.jupyter.widget-view+json": {
       "model_id": "2273a04a8f5c40c8b422b2887943fba2",
       "version_major": 2,
       "version_minor": 0
      },
      "text/html": [
       "Cannot show widget. You probably want to rerun the code cell above (<i>Click in the code cell, and press Shift+Enter <kbd>⇧</kbd>+<kbd>↩</kbd></i>)."
      ],
      "text/plain": [
       "Cannot show ipywidgets in text"
      ]
     },
     "metadata": {},
     "output_type": "display_data"
    }
   ],
   "source": [
    "Page()"
   ]
  }
 ],
 "metadata": {
  "kernelspec": {
   "display_name": "aiidalab-solara-qe",
   "language": "python",
   "name": "python3"
  },
  "language_info": {
   "codemirror_mode": {
    "name": "ipython",
    "version": 3
   },
   "file_extension": ".py",
   "mimetype": "text/x-python",
   "name": "python",
   "nbconvert_exporter": "python",
   "pygments_lexer": "ipython3",
   "version": "3.10.8"
  }
 },
 "nbformat": 4,
 "nbformat_minor": 2
}
